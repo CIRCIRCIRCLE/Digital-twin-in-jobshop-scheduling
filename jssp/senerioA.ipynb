{
 "cells": [
  {
   "cell_type": "code",
   "execution_count": 1,
   "id": "5469e59e",
   "metadata": {},
   "outputs": [],
   "source": [
    "import numpy as np\n",
    "import simpy"
   ]
  },
  {
   "cell_type": "markdown",
   "id": "79b5c489",
   "metadata": {},
   "source": [
    "# Generate sequence"
   ]
  },
  {
   "cell_type": "code",
   "execution_count": 2,
   "id": "b7c96aa5",
   "metadata": {},
   "outputs": [
    {
     "name": "stdout",
     "output_type": "stream",
     "text": [
      "labels for each machine:\n",
      " [0, 1, 2]\n"
     ]
    }
   ],
   "source": [
    "Machine_num = 3\n",
    "Machine_label = []\n",
    "for i in range(0,Machine_num):\n",
    "    Machine_label.append(i)\n",
    "print(\"labels for each machine:\\n\", Machine_label)"
   ]
  },
  {
   "cell_type": "code",
   "execution_count": 3,
   "id": "96edd7ea",
   "metadata": {},
   "outputs": [
    {
     "name": "stdout",
     "output_type": "stream",
     "text": [
      "The total types of products:\n",
      " 3\n"
     ]
    }
   ],
   "source": [
    "Product_num = 3\n",
    "print(\"The total types of products:\\n\", Product_num)"
   ]
  },
  {
   "cell_type": "code",
   "execution_count": 4,
   "id": "1da7790a",
   "metadata": {},
   "outputs": [
    {
     "name": "stdout",
     "output_type": "stream",
     "text": [
      "The numbers of products in the sequence: 84\n"
     ]
    }
   ],
   "source": [
    "inpro_seq = np.random.randint(50,100)\n",
    "print(\"The numbers of products in the sequence:\",inpro_seq)"
   ]
  },
  {
   "cell_type": "code",
   "execution_count": 5,
   "id": "11bca122",
   "metadata": {},
   "outputs": [
    {
     "name": "stdout",
     "output_type": "stream",
     "text": [
      "Input Sequence = \n",
      " [2, 1, 2, 2, 0, 2, 2, 2, 1, 1, 1, 1, 2, 0, 2, 2, 2, 2, 2, 1, 0, 1, 1, 2, 2, 0, 0, 2, 0, 0, 2, 2, 0, 2, 1, 1, 0, 2, 1, 2, 0, 0, 0, 0, 0, 2, 0, 0, 1, 0, 0, 2, 0, 0, 0, 2, 0, 0, 2, 0, 2, 1, 0, 0, 0, 0, 2, 0, 2, 1, 0, 1, 2, 0, 0, 1, 1, 1, 2, 1, 1, 2, 0, 0]\n"
     ]
    }
   ],
   "source": [
    "S = []\n",
    "for i in range(inpro_seq):\n",
    "    S.append(np.random.randint(0,Product_num))\n",
    "print(\"Input Sequence = \\n\",S)"
   ]
  },
  {
   "cell_type": "code",
   "execution_count": 6,
   "id": "5dc5e394",
   "metadata": {},
   "outputs": [
    {
     "name": "stdout",
     "output_type": "stream",
     "text": [
      "Each machine's working time: [16, 25, 25]\n"
     ]
    }
   ],
   "source": [
    "# The processsing time for each machine\n",
    "# The processing time ranges from 10-30\n",
    "Time_pcs=[]\n",
    "for i in range(Machine_num):\n",
    "    Time_pcs.append(np.random.randint(10,30))\n",
    "print(\"Each machine's working time:\",Time_pcs)"
   ]
  },
  {
   "cell_type": "code",
   "execution_count": 7,
   "id": "ab802558",
   "metadata": {},
   "outputs": [
    {
     "name": "stdout",
     "output_type": "stream",
     "text": [
      "Machine appearence times: [34, 20, 30]\n"
     ]
    }
   ],
   "source": [
    "#The times of the appearences of each machine\n",
    "m_frequency=[]  \n",
    "for i in range(Machine_num):\n",
    "    m_frequency.append(0)\n",
    "for i in range(len(S)):\n",
    "    m_frequency[S[i]]=m_frequency[S[i]]+1\n",
    "print(\"Machine appearence times:\",m_frequency)"
   ]
  },
  {
   "cell_type": "code",
   "execution_count": 8,
   "id": "f1387d4a",
   "metadata": {},
   "outputs": [
    {
     "name": "stdout",
     "output_type": "stream",
     "text": [
      "Total processing time for each type of machine:\n",
      " [544, 500, 750]\n"
     ]
    }
   ],
   "source": [
    "# Total processing time for each type of machine\n",
    "Total_m_time=[]\n",
    "for i in range(Machine_num):\n",
    "    Total_m_time.append(m_frequency[i]*Time_pcs[i])\n",
    "print(\"Total processing time for each type of machine:\\n\", Total_m_time)"
   ]
  },
  {
   "cell_type": "code",
   "execution_count": 9,
   "id": "915011d6",
   "metadata": {},
   "outputs": [
    {
     "data": {
      "text/plain": [
       "500"
      ]
     },
     "execution_count": 9,
     "metadata": {},
     "output_type": "execute_result"
    }
   ],
   "source": [
    "min_time = Total_m_time[0]\n",
    "for i in range(len(Total_m_time)):\n",
    "    if (min_time>Total_m_time[i]):\n",
    "        min_time = Total_m_time[i]\n",
    "min_time"
   ]
  },
  {
   "cell_type": "code",
   "execution_count": 10,
   "id": "bebeaa25",
   "metadata": {},
   "outputs": [
    {
     "name": "stdout",
     "output_type": "stream",
     "text": [
      "Numbers of machines in each type:\n",
      " [1, 1, 2]\n"
     ]
    }
   ],
   "source": [
    "# to average the finishing time, attribute some assistant machines for the certain type\n",
    "m_added=[]\n",
    "for i in range(Machine_num):\n",
    "    m_added.append(round(Total_m_time[i]/min_time))\n",
    "print(\"Numbers of machines in each type:\\n\", m_added)"
   ]
  },
  {
   "cell_type": "markdown",
   "id": "52749b4f",
   "metadata": {},
   "source": [
    "# Parameter Assignment "
   ]
  },
  {
   "cell_type": "code",
   "execution_count": 11,
   "id": "8583ecdc",
   "metadata": {},
   "outputs": [],
   "source": [
    "global block1#The amount of products that have been blocked by other products\n",
    "block1=0\n",
    "global block2  #How many products are blocked by other products\n",
    "block2=0"
   ]
  },
  {
   "cell_type": "code",
   "execution_count": 12,
   "id": "1851563e",
   "metadata": {},
   "outputs": [],
   "source": [
    "global block_time\n",
    "block_time=0"
   ]
  },
  {
   "cell_type": "code",
   "execution_count": 13,
   "id": "05e58122",
   "metadata": {},
   "outputs": [],
   "source": [
    "global m_vacant\n",
    "m_vacant=Machine_num"
   ]
  },
  {
   "cell_type": "code",
   "execution_count": 14,
   "id": "b3291550",
   "metadata": {},
   "outputs": [],
   "source": [
    "global m_occupied\n",
    "m_occupied=0"
   ]
  },
  {
   "cell_type": "code",
   "execution_count": 15,
   "id": "ce8e95ee",
   "metadata": {},
   "outputs": [],
   "source": [
    "track_time=[]\n",
    "track_p_blockednum=[]   #The number of products that are blocked at a certain time"
   ]
  },
  {
   "cell_type": "code",
   "execution_count": 16,
   "id": "99ab96e2",
   "metadata": {},
   "outputs": [
    {
     "data": {
      "text/plain": [
       "[1, 1, 1]"
      ]
     },
     "execution_count": 16,
     "metadata": {},
     "output_type": "execute_result"
    }
   ],
   "source": [
    "# recording machines of each type\n",
    "n_machine_each_type=[]\n",
    "for i in range(0,Machine_num):\n",
    "    n_machine_each_type.append(1)\n",
    "n_machine_each_type"
   ]
  },
  {
   "cell_type": "code",
   "execution_count": 17,
   "id": "f6333335",
   "metadata": {},
   "outputs": [
    {
     "data": {
      "text/plain": [
       "[[], [], []]"
      ]
     },
     "execution_count": 17,
     "metadata": {},
     "output_type": "execute_result"
    }
   ],
   "source": [
    "# wait list in each type of machine\n",
    "wait=[]\n",
    "for i in range(Machine_num):\n",
    "    wait.append([])\n",
    "wait"
   ]
  },
  {
   "cell_type": "markdown",
   "id": "90cc9a56",
   "metadata": {},
   "source": [
    "# Simpy Environment"
   ]
  },
  {
   "cell_type": "code",
   "execution_count": 63,
   "id": "265e7264",
   "metadata": {},
   "outputs": [],
   "source": [
    "env = simpy.Environment()"
   ]
  },
  {
   "cell_type": "code",
   "execution_count": 64,
   "id": "4bceaa2e",
   "metadata": {},
   "outputs": [],
   "source": [
    "#set the number of machines of each type as resources\n",
    "res=[]\n",
    "for i in range(Machine_num):\n",
    "    res.append(simpy.Resource(env,capacity=m_added[i]))"
   ]
  },
  {
   "cell_type": "code",
   "execution_count": 65,
   "id": "f9922d65",
   "metadata": {},
   "outputs": [
    {
     "data": {
      "text/plain": [
       "[<simpy.resources.resource.Resource at 0x14afed88be0>,\n",
       " <simpy.resources.resource.Resource at 0x14afed880a0>,\n",
       " <simpy.resources.resource.Resource at 0x14afed88c70>]"
      ]
     },
     "execution_count": 65,
     "metadata": {},
     "output_type": "execute_result"
    }
   ],
   "source": [
    "res"
   ]
  },
  {
   "cell_type": "markdown",
   "id": "4a0f8b70",
   "metadata": {},
   "source": [
    "# Simulation Process "
   ]
  },
  {
   "cell_type": "code",
   "execution_count": 66,
   "id": "c9b1c165",
   "metadata": {},
   "outputs": [],
   "source": [
    "def sys_process(product_num,i,res,env):\n",
    "    global block1\n",
    "    global block2\n",
    "    global block_time\n",
    "    global m_vacant\n",
    "    global m_occupied\n",
    "    global block_time\n",
    "    \n",
    "    # request machine\n",
    "    machine = product_num\n",
    "    print(f'Current time is {env.now}: NO.{i}, Product type {product_num} requests for machine{machine}')\n",
    "    wait[machine].append(product_num) #add arriving products into the waiting list \n",
    "    t_request=env.now\n",
    "    block2+=1\n",
    "    \n",
    "    #go into the machine\n",
    "    with res[machine].request() as req:\n",
    "        yield req\n",
    "        m_occupied=m_occupied+1\n",
    "        m_vacant=m_vacant-1\n",
    "        t_in=env.now\n",
    "        wait[machine].remove(product_num)\n",
    "        block2=block2-1\n",
    "        if (t_request!=t_in):\n",
    "            block1=block1+1\n",
    "            block_time=block_time+t_in-t_request\n",
    "        print(f'Current time is {env.now}: NO.{i}, Product type {product_num} goes into the machine{machine}')\n",
    "        yield env.timeout(Time_pcs[machine])\n",
    "        m_vacant=m_vacant+1\n",
    "        m_occupied=m_occupied-1\n",
    "        print(f'Current time is {env.now}: NO.{i},Product type {product_num} goes out the machine{machine}')\n"
   ]
  },
  {
   "cell_type": "code",
   "execution_count": 67,
   "id": "c2537eb8",
   "metadata": {},
   "outputs": [],
   "source": [
    "def input_sequence(res,env):\n",
    "    for i in range(inpro_seq+1):\n",
    "        #the time gap between the input sequence is random\n",
    "        yield env.timeout(np.random.randint(10,15))\n",
    "        print(f'Current time is {env.now}: NO.{i}, Product type {S[i]} goes into the system')\n",
    "        env.process(sys_process(S[i],i,res,env))"
   ]
  },
  {
   "cell_type": "code",
   "execution_count": 68,
   "id": "2bb544f2",
   "metadata": {},
   "outputs": [
    {
     "name": "stdout",
     "output_type": "stream",
     "text": [
      "Current time is 10: NO.0, Product type 2 goes into the system\n",
      "Current time is 10: NO.0, Product type 2 requests for machine2\n",
      "Current time is 10: NO.0, Product type 2 goes into the machine2\n",
      "Current time is 22: NO.1, Product type 1 goes into the system\n",
      "Current time is 22: NO.1, Product type 1 requests for machine1\n",
      "Current time is 22: NO.1, Product type 1 goes into the machine1\n",
      "Current time is 34: NO.2, Product type 2 goes into the system\n",
      "Current time is 34: NO.2, Product type 2 requests for machine2\n",
      "Current time is 34: NO.2, Product type 2 goes into the machine2\n",
      "Current time is 35: NO.0,Product type 2 goes out the machine2\n",
      "Current time is 45: NO.3, Product type 2 goes into the system\n",
      "Current time is 45: NO.3, Product type 2 requests for machine2\n",
      "Current time is 45: NO.3, Product type 2 goes into the machine2\n",
      "Current time is 47: NO.1,Product type 1 goes out the machine1\n",
      "Current time is 55: NO.4, Product type 0 goes into the system\n",
      "Current time is 55: NO.4, Product type 0 requests for machine0\n",
      "Current time is 55: NO.4, Product type 0 goes into the machine0\n",
      "Current time is 59: NO.2,Product type 2 goes out the machine2\n",
      "Current time is 66: NO.5, Product type 2 goes into the system\n",
      "Current time is 66: NO.5, Product type 2 requests for machine2\n",
      "Current time is 66: NO.5, Product type 2 goes into the machine2\n",
      "Current time is 70: NO.3,Product type 2 goes out the machine2\n",
      "Current time is 71: NO.4,Product type 0 goes out the machine0\n",
      "Current time is 77: NO.6, Product type 2 goes into the system\n",
      "Current time is 77: NO.6, Product type 2 requests for machine2\n",
      "Current time is 77: NO.6, Product type 2 goes into the machine2\n",
      "Current time is 89: NO.7, Product type 2 goes into the system\n",
      "Current time is 89: NO.7, Product type 2 requests for machine2\n",
      "Current time is 91: NO.5,Product type 2 goes out the machine2\n",
      "Current time is 91: NO.7, Product type 2 goes into the machine2\n",
      "Current time is 102: NO.6,Product type 2 goes out the machine2\n",
      "Current time is 103: NO.8, Product type 1 goes into the system\n",
      "Current time is 103: NO.8, Product type 1 requests for machine1\n",
      "Current time is 103: NO.8, Product type 1 goes into the machine1\n",
      "Current time is 113: NO.9, Product type 1 goes into the system\n",
      "Current time is 113: NO.9, Product type 1 requests for machine1\n",
      "Current time is 116: NO.7,Product type 2 goes out the machine2\n",
      "Current time is 126: NO.10, Product type 1 goes into the system\n",
      "Current time is 126: NO.10, Product type 1 requests for machine1\n",
      "Current time is 128: NO.8,Product type 1 goes out the machine1\n",
      "Current time is 128: NO.9, Product type 1 goes into the machine1\n",
      "Current time is 138: NO.11, Product type 1 goes into the system\n",
      "Current time is 138: NO.11, Product type 1 requests for machine1\n",
      "Current time is 148: NO.12, Product type 2 goes into the system\n",
      "Current time is 148: NO.12, Product type 2 requests for machine2\n",
      "Current time is 148: NO.12, Product type 2 goes into the machine2\n",
      "Current time is 153: NO.9,Product type 1 goes out the machine1\n",
      "Current time is 153: NO.10, Product type 1 goes into the machine1\n",
      "Current time is 158: NO.13, Product type 0 goes into the system\n",
      "Current time is 158: NO.13, Product type 0 requests for machine0\n",
      "Current time is 158: NO.13, Product type 0 goes into the machine0\n",
      "Current time is 170: NO.14, Product type 2 goes into the system\n",
      "Current time is 170: NO.14, Product type 2 requests for machine2\n",
      "Current time is 170: NO.14, Product type 2 goes into the machine2\n",
      "Current time is 173: NO.12,Product type 2 goes out the machine2\n",
      "Current time is 174: NO.13,Product type 0 goes out the machine0\n",
      "Current time is 178: NO.10,Product type 1 goes out the machine1\n",
      "Current time is 178: NO.11, Product type 1 goes into the machine1\n",
      "Current time is 183: NO.15, Product type 2 goes into the system\n",
      "Current time is 183: NO.15, Product type 2 requests for machine2\n",
      "Current time is 183: NO.15, Product type 2 goes into the machine2\n",
      "Current time is 195: NO.14,Product type 2 goes out the machine2\n",
      "Current time is 195: NO.16, Product type 2 goes into the system\n",
      "Current time is 195: NO.16, Product type 2 requests for machine2\n",
      "Current time is 195: NO.16, Product type 2 goes into the machine2\n",
      "Current time is 203: NO.11,Product type 1 goes out the machine1\n",
      "Current time is 205: NO.17, Product type 2 goes into the system\n",
      "Current time is 205: NO.17, Product type 2 requests for machine2\n",
      "Current time is 208: NO.15,Product type 2 goes out the machine2\n",
      "Current time is 208: NO.17, Product type 2 goes into the machine2\n",
      "Current time is 219: NO.18, Product type 2 goes into the system\n",
      "Current time is 219: NO.18, Product type 2 requests for machine2\n",
      "Current time is 220: NO.16,Product type 2 goes out the machine2\n",
      "Current time is 220: NO.18, Product type 2 goes into the machine2\n",
      "Current time is 231: NO.19, Product type 1 goes into the system\n",
      "Current time is 231: NO.19, Product type 1 requests for machine1\n",
      "Current time is 231: NO.19, Product type 1 goes into the machine1\n",
      "Current time is 233: NO.17,Product type 2 goes out the machine2\n",
      "Current time is 244: NO.20, Product type 0 goes into the system\n",
      "Current time is 244: NO.20, Product type 0 requests for machine0\n",
      "Current time is 244: NO.20, Product type 0 goes into the machine0\n",
      "Current time is 245: NO.18,Product type 2 goes out the machine2\n",
      "Current time is 256: NO.19,Product type 1 goes out the machine1\n",
      "Current time is 256: NO.21, Product type 1 goes into the system\n",
      "Current time is 256: NO.21, Product type 1 requests for machine1\n",
      "Current time is 256: NO.21, Product type 1 goes into the machine1\n",
      "Current time is 260: NO.20,Product type 0 goes out the machine0\n",
      "Current time is 270: NO.22, Product type 1 goes into the system\n",
      "Current time is 270: NO.22, Product type 1 requests for machine1\n",
      "Current time is 280: NO.23, Product type 2 goes into the system\n",
      "Current time is 280: NO.23, Product type 2 requests for machine2\n",
      "Current time is 280: NO.23, Product type 2 goes into the machine2\n",
      "Current time is 281: NO.21,Product type 1 goes out the machine1\n",
      "Current time is 281: NO.22, Product type 1 goes into the machine1\n",
      "Current time is 291: NO.24, Product type 2 goes into the system\n",
      "Current time is 291: NO.24, Product type 2 requests for machine2\n",
      "Current time is 291: NO.24, Product type 2 goes into the machine2\n",
      "Current time is 303: NO.25, Product type 0 goes into the system\n",
      "Current time is 303: NO.25, Product type 0 requests for machine0\n",
      "Current time is 303: NO.25, Product type 0 goes into the machine0\n",
      "Current time is 305: NO.23,Product type 2 goes out the machine2\n",
      "Current time is 306: NO.22,Product type 1 goes out the machine1\n",
      "Current time is 315: NO.26, Product type 0 goes into the system\n",
      "Current time is 315: NO.26, Product type 0 requests for machine0\n",
      "Current time is 316: NO.24,Product type 2 goes out the machine2\n",
      "Current time is 319: NO.25,Product type 0 goes out the machine0\n",
      "Current time is 319: NO.26, Product type 0 goes into the machine0\n",
      "Current time is 325: NO.27, Product type 2 goes into the system\n",
      "Current time is 325: NO.27, Product type 2 requests for machine2\n",
      "Current time is 325: NO.27, Product type 2 goes into the machine2\n",
      "Current time is 335: NO.26,Product type 0 goes out the machine0\n",
      "Current time is 338: NO.28, Product type 0 goes into the system\n",
      "Current time is 338: NO.28, Product type 0 requests for machine0\n",
      "Current time is 338: NO.28, Product type 0 goes into the machine0\n",
      "Current time is 350: NO.27,Product type 2 goes out the machine2\n",
      "Current time is 351: NO.29, Product type 0 goes into the system\n",
      "Current time is 351: NO.29, Product type 0 requests for machine0\n",
      "Current time is 354: NO.28,Product type 0 goes out the machine0\n",
      "Current time is 354: NO.29, Product type 0 goes into the machine0\n",
      "Current time is 364: NO.30, Product type 2 goes into the system\n",
      "Current time is 364: NO.30, Product type 2 requests for machine2\n",
      "Current time is 364: NO.30, Product type 2 goes into the machine2\n",
      "Current time is 370: NO.29,Product type 0 goes out the machine0\n",
      "Current time is 376: NO.31, Product type 2 goes into the system\n",
      "Current time is 376: NO.31, Product type 2 requests for machine2\n",
      "Current time is 376: NO.31, Product type 2 goes into the machine2\n",
      "Current time is 388: NO.32, Product type 0 goes into the system\n",
      "Current time is 388: NO.32, Product type 0 requests for machine0\n",
      "Current time is 388: NO.32, Product type 0 goes into the machine0\n",
      "Current time is 389: NO.30,Product type 2 goes out the machine2\n",
      "Current time is 401: NO.31,Product type 2 goes out the machine2\n",
      "Current time is 401: NO.33, Product type 2 goes into the system\n",
      "Current time is 401: NO.33, Product type 2 requests for machine2\n",
      "Current time is 401: NO.33, Product type 2 goes into the machine2\n",
      "Current time is 404: NO.32,Product type 0 goes out the machine0\n",
      "Current time is 414: NO.34, Product type 1 goes into the system\n",
      "Current time is 414: NO.34, Product type 1 requests for machine1\n",
      "Current time is 414: NO.34, Product type 1 goes into the machine1\n",
      "Current time is 424: NO.35, Product type 1 goes into the system\n",
      "Current time is 424: NO.35, Product type 1 requests for machine1\n",
      "Current time is 426: NO.33,Product type 2 goes out the machine2\n",
      "Current time is 438: NO.36, Product type 0 goes into the system\n",
      "Current time is 438: NO.36, Product type 0 requests for machine0\n",
      "Current time is 438: NO.36, Product type 0 goes into the machine0\n",
      "Current time is 439: NO.34,Product type 1 goes out the machine1\n",
      "Current time is 439: NO.35, Product type 1 goes into the machine1\n",
      "Current time is 449: NO.37, Product type 2 goes into the system\n",
      "Current time is 449: NO.37, Product type 2 requests for machine2\n",
      "Current time is 449: NO.37, Product type 2 goes into the machine2\n",
      "Current time is 454: NO.36,Product type 0 goes out the machine0\n",
      "Current time is 460: NO.38, Product type 1 goes into the system\n",
      "Current time is 460: NO.38, Product type 1 requests for machine1\n",
      "Current time is 464: NO.35,Product type 1 goes out the machine1\n",
      "Current time is 464: NO.38, Product type 1 goes into the machine1\n",
      "Current time is 474: NO.37,Product type 2 goes out the machine2\n",
      "Current time is 474: NO.39, Product type 2 goes into the system\n",
      "Current time is 474: NO.39, Product type 2 requests for machine2\n",
      "Current time is 474: NO.39, Product type 2 goes into the machine2\n",
      "Current time is 488: NO.40, Product type 0 goes into the system\n",
      "Current time is 488: NO.40, Product type 0 requests for machine0\n",
      "Current time is 488: NO.40, Product type 0 goes into the machine0\n",
      "Current time is 489: NO.38,Product type 1 goes out the machine1\n",
      "Current time is 499: NO.39,Product type 2 goes out the machine2\n",
      "Current time is 501: NO.41, Product type 0 goes into the system\n",
      "Current time is 501: NO.41, Product type 0 requests for machine0\n",
      "Current time is 504: NO.40,Product type 0 goes out the machine0\n",
      "Current time is 504: NO.41, Product type 0 goes into the machine0\n",
      "Current time is 513: NO.42, Product type 0 goes into the system\n",
      "Current time is 513: NO.42, Product type 0 requests for machine0\n",
      "Current time is 520: NO.41,Product type 0 goes out the machine0\n",
      "Current time is 520: NO.42, Product type 0 goes into the machine0\n",
      "Current time is 523: NO.43, Product type 0 goes into the system\n",
      "Current time is 523: NO.43, Product type 0 requests for machine0\n",
      "Current time is 536: NO.42,Product type 0 goes out the machine0\n",
      "Current time is 536: NO.44, Product type 0 goes into the system\n",
      "Current time is 536: NO.44, Product type 0 requests for machine0\n",
      "Current time is 536: NO.43, Product type 0 goes into the machine0\n",
      "Current time is 549: NO.45, Product type 2 goes into the system\n",
      "Current time is 549: NO.45, Product type 2 requests for machine2\n",
      "Current time is 549: NO.45, Product type 2 goes into the machine2\n",
      "Current time is 552: NO.43,Product type 0 goes out the machine0\n",
      "Current time is 552: NO.44, Product type 0 goes into the machine0\n",
      "Current time is 563: NO.46, Product type 0 goes into the system\n",
      "Current time is 563: NO.46, Product type 0 requests for machine0\n",
      "Current time is 568: NO.44,Product type 0 goes out the machine0\n",
      "Current time is 568: NO.46, Product type 0 goes into the machine0\n",
      "Current time is 573: NO.47, Product type 0 goes into the system\n",
      "Current time is 573: NO.47, Product type 0 requests for machine0\n",
      "Current time is 574: NO.45,Product type 2 goes out the machine2\n",
      "Current time is 583: NO.48, Product type 1 goes into the system\n",
      "Current time is 583: NO.48, Product type 1 requests for machine1\n",
      "Current time is 583: NO.48, Product type 1 goes into the machine1\n",
      "Current time is 584: NO.46,Product type 0 goes out the machine0\n",
      "Current time is 584: NO.47, Product type 0 goes into the machine0\n",
      "Current time is 594: NO.49, Product type 0 goes into the system\n",
      "Current time is 594: NO.49, Product type 0 requests for machine0\n",
      "Current time is 600: NO.47,Product type 0 goes out the machine0\n",
      "Current time is 600: NO.49, Product type 0 goes into the machine0\n",
      "Current time is 608: NO.48,Product type 1 goes out the machine1\n",
      "Current time is 608: NO.50, Product type 0 goes into the system\n",
      "Current time is 608: NO.50, Product type 0 requests for machine0\n",
      "Current time is 616: NO.49,Product type 0 goes out the machine0\n",
      "Current time is 616: NO.50, Product type 0 goes into the machine0\n",
      "Current time is 619: NO.51, Product type 2 goes into the system\n",
      "Current time is 619: NO.51, Product type 2 requests for machine2\n",
      "Current time is 619: NO.51, Product type 2 goes into the machine2\n",
      "Current time is 629: NO.52, Product type 0 goes into the system\n",
      "Current time is 629: NO.52, Product type 0 requests for machine0\n",
      "Current time is 632: NO.50,Product type 0 goes out the machine0\n",
      "Current time is 632: NO.52, Product type 0 goes into the machine0\n",
      "Current time is 640: NO.53, Product type 0 goes into the system\n",
      "Current time is 640: NO.53, Product type 0 requests for machine0\n",
      "Current time is 644: NO.51,Product type 2 goes out the machine2\n",
      "Current time is 648: NO.52,Product type 0 goes out the machine0\n",
      "Current time is 648: NO.53, Product type 0 goes into the machine0\n",
      "Current time is 653: NO.54, Product type 0 goes into the system\n",
      "Current time is 653: NO.54, Product type 0 requests for machine0\n",
      "Current time is 664: NO.53,Product type 0 goes out the machine0\n",
      "Current time is 664: NO.54, Product type 0 goes into the machine0\n",
      "Current time is 665: NO.55, Product type 2 goes into the system\n",
      "Current time is 665: NO.55, Product type 2 requests for machine2\n",
      "Current time is 665: NO.55, Product type 2 goes into the machine2\n",
      "Current time is 677: NO.56, Product type 0 goes into the system\n",
      "Current time is 677: NO.56, Product type 0 requests for machine0\n",
      "Current time is 680: NO.54,Product type 0 goes out the machine0\n",
      "Current time is 680: NO.56, Product type 0 goes into the machine0\n",
      "Current time is 688: NO.57, Product type 0 goes into the system\n",
      "Current time is 688: NO.57, Product type 0 requests for machine0\n",
      "Current time is 690: NO.55,Product type 2 goes out the machine2\n",
      "Current time is 696: NO.56,Product type 0 goes out the machine0\n",
      "Current time is 696: NO.57, Product type 0 goes into the machine0\n",
      "Current time is 701: NO.58, Product type 2 goes into the system\n",
      "Current time is 701: NO.58, Product type 2 requests for machine2\n",
      "Current time is 701: NO.58, Product type 2 goes into the machine2\n",
      "Current time is 712: NO.57,Product type 0 goes out the machine0\n",
      "Current time is 714: NO.59, Product type 0 goes into the system\n",
      "Current time is 714: NO.59, Product type 0 requests for machine0\n",
      "Current time is 714: NO.59, Product type 0 goes into the machine0\n",
      "Current time is 724: NO.60, Product type 2 goes into the system\n",
      "Current time is 724: NO.60, Product type 2 requests for machine2\n",
      "Current time is 724: NO.60, Product type 2 goes into the machine2\n",
      "Current time is 726: NO.58,Product type 2 goes out the machine2\n",
      "Current time is 730: NO.59,Product type 0 goes out the machine0\n",
      "Current time is 734: NO.61, Product type 1 goes into the system\n",
      "Current time is 734: NO.61, Product type 1 requests for machine1\n",
      "Current time is 734: NO.61, Product type 1 goes into the machine1\n",
      "Current time is 745: NO.62, Product type 0 goes into the system\n",
      "Current time is 745: NO.62, Product type 0 requests for machine0\n",
      "Current time is 745: NO.62, Product type 0 goes into the machine0\n",
      "Current time is 749: NO.60,Product type 2 goes out the machine2\n",
      "Current time is 756: NO.63, Product type 0 goes into the system\n",
      "Current time is 756: NO.63, Product type 0 requests for machine0\n",
      "Current time is 759: NO.61,Product type 1 goes out the machine1\n",
      "Current time is 761: NO.62,Product type 0 goes out the machine0\n",
      "Current time is 761: NO.63, Product type 0 goes into the machine0\n",
      "Current time is 766: NO.64, Product type 0 goes into the system\n",
      "Current time is 766: NO.64, Product type 0 requests for machine0\n",
      "Current time is 777: NO.63,Product type 0 goes out the machine0\n",
      "Current time is 777: NO.64, Product type 0 goes into the machine0\n",
      "Current time is 780: NO.65, Product type 0 goes into the system\n",
      "Current time is 780: NO.65, Product type 0 requests for machine0\n",
      "Current time is 791: NO.66, Product type 2 goes into the system\n",
      "Current time is 791: NO.66, Product type 2 requests for machine2\n",
      "Current time is 791: NO.66, Product type 2 goes into the machine2\n",
      "Current time is 793: NO.64,Product type 0 goes out the machine0\n",
      "Current time is 793: NO.65, Product type 0 goes into the machine0\n",
      "Current time is 805: NO.67, Product type 0 goes into the system\n",
      "Current time is 805: NO.67, Product type 0 requests for machine0\n",
      "Current time is 809: NO.65,Product type 0 goes out the machine0\n",
      "Current time is 809: NO.67, Product type 0 goes into the machine0\n",
      "Current time is 816: NO.66,Product type 2 goes out the machine2\n",
      "Current time is 817: NO.68, Product type 2 goes into the system\n",
      "Current time is 817: NO.68, Product type 2 requests for machine2\n",
      "Current time is 817: NO.68, Product type 2 goes into the machine2\n",
      "Current time is 825: NO.67,Product type 0 goes out the machine0\n",
      "Current time is 829: NO.69, Product type 1 goes into the system\n",
      "Current time is 829: NO.69, Product type 1 requests for machine1\n",
      "Current time is 829: NO.69, Product type 1 goes into the machine1\n",
      "Current time is 842: NO.68,Product type 2 goes out the machine2\n",
      "Current time is 842: NO.70, Product type 0 goes into the system\n",
      "Current time is 842: NO.70, Product type 0 requests for machine0\n",
      "Current time is 842: NO.70, Product type 0 goes into the machine0\n",
      "Current time is 854: NO.69,Product type 1 goes out the machine1\n",
      "Current time is 856: NO.71, Product type 1 goes into the system\n",
      "Current time is 856: NO.71, Product type 1 requests for machine1\n",
      "Current time is 856: NO.71, Product type 1 goes into the machine1\n",
      "Current time is 858: NO.70,Product type 0 goes out the machine0\n",
      "Current time is 866: NO.72, Product type 2 goes into the system\n",
      "Current time is 866: NO.72, Product type 2 requests for machine2\n",
      "Current time is 866: NO.72, Product type 2 goes into the machine2\n",
      "Current time is 879: NO.73, Product type 0 goes into the system\n",
      "Current time is 879: NO.73, Product type 0 requests for machine0\n",
      "Current time is 879: NO.73, Product type 0 goes into the machine0\n",
      "Current time is 881: NO.71,Product type 1 goes out the machine1\n",
      "Current time is 891: NO.72,Product type 2 goes out the machine2\n",
      "Current time is 892: NO.74, Product type 0 goes into the system\n",
      "Current time is 892: NO.74, Product type 0 requests for machine0\n",
      "Current time is 895: NO.73,Product type 0 goes out the machine0\n",
      "Current time is 895: NO.74, Product type 0 goes into the machine0\n",
      "Current time is 905: NO.75, Product type 1 goes into the system\n",
      "Current time is 905: NO.75, Product type 1 requests for machine1\n",
      "Current time is 905: NO.75, Product type 1 goes into the machine1\n",
      "Current time is 911: NO.74,Product type 0 goes out the machine0\n",
      "Current time is 915: NO.76, Product type 1 goes into the system\n",
      "Current time is 915: NO.76, Product type 1 requests for machine1\n",
      "Current time is 929: NO.77, Product type 1 goes into the system\n",
      "Current time is 929: NO.77, Product type 1 requests for machine1\n",
      "Current time is 930: NO.75,Product type 1 goes out the machine1\n",
      "Current time is 930: NO.76, Product type 1 goes into the machine1\n",
      "Current time is 943: NO.78, Product type 2 goes into the system\n",
      "Current time is 943: NO.78, Product type 2 requests for machine2\n",
      "Current time is 943: NO.78, Product type 2 goes into the machine2\n",
      "Current time is 954: NO.79, Product type 1 goes into the system\n",
      "Current time is 954: NO.79, Product type 1 requests for machine1\n",
      "Current time is 955: NO.76,Product type 1 goes out the machine1\n",
      "Current time is 955: NO.77, Product type 1 goes into the machine1\n",
      "Current time is 968: NO.78,Product type 2 goes out the machine2\n",
      "Current time is 968: NO.80, Product type 1 goes into the system\n",
      "Current time is 968: NO.80, Product type 1 requests for machine1\n",
      "Current time is 978: NO.81, Product type 2 goes into the system\n",
      "Current time is 978: NO.81, Product type 2 requests for machine2\n",
      "Current time is 978: NO.81, Product type 2 goes into the machine2\n",
      "Current time is 980: NO.77,Product type 1 goes out the machine1\n",
      "Current time is 980: NO.79, Product type 1 goes into the machine1\n",
      "Current time is 990: NO.82, Product type 0 goes into the system\n",
      "Current time is 990: NO.82, Product type 0 requests for machine0\n",
      "Current time is 990: NO.82, Product type 0 goes into the machine0\n"
     ]
    }
   ],
   "source": [
    "env.process(input_sequence(res,env))\n",
    "env.run(until=1000)"
   ]
  },
  {
   "cell_type": "code",
   "execution_count": 69,
   "id": "903a2b20",
   "metadata": {},
   "outputs": [
    {
     "data": {
      "text/plain": [
       "29658"
      ]
     },
     "execution_count": 69,
     "metadata": {},
     "output_type": "execute_result"
    }
   ],
   "source": [
    "block_time"
   ]
  },
  {
   "cell_type": "code",
   "execution_count": null,
   "id": "7e984f03",
   "metadata": {},
   "outputs": [],
   "source": []
  }
 ],
 "metadata": {
  "kernelspec": {
   "display_name": "Python 3 (ipykernel)",
   "language": "python",
   "name": "python3"
  },
  "language_info": {
   "codemirror_mode": {
    "name": "ipython",
    "version": 3
   },
   "file_extension": ".py",
   "mimetype": "text/x-python",
   "name": "python",
   "nbconvert_exporter": "python",
   "pygments_lexer": "ipython3",
   "version": "3.9.8"
  }
 },
 "nbformat": 4,
 "nbformat_minor": 5
}
